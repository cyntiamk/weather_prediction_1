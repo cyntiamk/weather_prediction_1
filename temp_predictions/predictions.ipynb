{
 "cells": [
  {
   "cell_type": "code",
   "execution_count": null,
   "metadata": {},
   "outputs": [],
   "source": [
    "import pandas as pd\n",
    "import csv\n",
    "import os\n",
    "\n",
    "import pickle\n",
    "from sklearn.linear_model import Ridge\n",
    "from sklearn.metrics import r2_score, mean_squared_error\n"
   ]
  },
  {
   "cell_type": "code",
   "execution_count": null,
   "metadata": {},
   "outputs": [],
   "source": [
    "def c_to_f(c):\n",
    "    return ((c*9/5) + 32).round(1)"
   ]
  },
  {
   "cell_type": "code",
   "execution_count": null,
   "metadata": {},
   "outputs": [],
   "source": [
    "city_name = 'amsterdam'\n",
    "city_initial = 'Ams'\n",
    "city_to_print = 'Amsterdam'\n",
    "city = pd.read_csv('../recent_weather/'+ city_name +'_recent_features.csv').set_index('Date')\n",
    "sorted_city = city.sort_values('Date', ascending=False)\n",
    "clean_df = sorted_city.dropna()\n",
    "predictors = [city_initial + '_temp_1', city_initial + '_temp_2', city_initial + '_temp_3', \n",
    "              city_initial + '_max_1',city_initial + '_max_2',city_initial + '_max_3',\n",
    "              city_initial + '_min_1',city_initial + '_min_2', city_initial + '_min_3', \n",
    "              city_initial + '_dwp_1',city_initial + '_dwp_2', city_initial + '_dwp_3',\n",
    "              city_initial + '_mx_dwp_1', city_initial + '_mx_dwp_2',city_initial + '_mx_dwp_3',\n",
    "              city_initial + '_mi_dwp_1',city_initial + '_mi_dwp_2',city_initial +'_mi_dwp_3']\n",
    "\n",
    "X = clean_df[predictors]\n",
    "# import ridge model to predict temperature with recent features created\n",
    "model = pickle.load(open('ridge_temp_model.pkl', 'rb'))"
   ]
  },
  {
   "cell_type": "code",
   "execution_count": null,
   "metadata": {},
   "outputs": [],
   "source": [
    "temp_c = model.predict(X)\n",
    "temp_c"
   ]
  },
  {
   "cell_type": "code",
   "execution_count": null,
   "metadata": {
    "scrolled": false
   },
   "outputs": [],
   "source": [
    "clean_df"
   ]
  },
  {
   "cell_type": "code",
   "execution_count": null,
   "metadata": {},
   "outputs": [],
   "source": [
    "clean_df['Actual_avg_temp(F)'] = ''\n",
    "clean_df['Predicted_temp(C)']= ''\n",
    "clean_df['Predicted_temp(F)']= ''\n",
    "clean_df"
   ]
  },
  {
   "cell_type": "code",
   "execution_count": null,
   "metadata": {},
   "outputs": [],
   "source": [
    "actual_f = c_to_f(clean_df['Ams_temp'])\n",
    "\n",
    "temp_c = model.predict(X)\n",
    "\n",
    "temp_f = c_to_f(temp_c)\n",
    "\n",
    "fahrenheit = []\n",
    "for i in range(0, len(temp_f)):\n",
    "    fahrenheit.append(int(temp_f.item(i)))\n",
    "# apply function to convert temperature into Fahrenheit\n",
    "\n",
    "# grab values and add to dataframe\n",
    "\n",
    "clean_df['Actual_avg_temp(F)'] = actual_f\n",
    "clean_df['Predicted_temp(F)'] = fahrenheit\n",
    "\n",
    "# Create new dataframe with only Average temperature collected and compare with predicted temperature \n",
    "predictions_df = clean_df[['Actual_avg_temp(F)','Predicted_temp(F)']]\n",
    "# save prediction dataframe into csv\n",
    "predictions_df.to_csv(city_name + '_prediction.csv')\n",
    "predictions_df"
   ]
  },
  {
   "cell_type": "code",
   "execution_count": null,
   "metadata": {},
   "outputs": [],
   "source": [
    "def predicting_temp(city_name, city_initial, name_to_print):\n",
    "    city = pd.read_csv('../recent_weather/'+ city_name +'_recent_features.csv').set_index('Date')\n",
    "    sorted_city = city.sort_values('Date', ascending=False)\n",
    "    clean_df = sorted_city.dropna()\n",
    "    predictors = [city_initial + '_temp_1', city_initial + '_temp_2', city_initial + '_temp_3', \n",
    "                  city_initial + '_max_1',city_initial + '_max_2',city_initial + '_max_3',\n",
    "                  city_initial + '_min_1',city_initial + '_min_2', city_initial + '_min_3', \n",
    "                  city_initial + '_dwp_1',city_initial + '_dwp_2', city_initial + '_dwp_3',\n",
    "                  city_initial + '_mx_dwp_1', city_initial + '_mx_dwp_2',city_initial + '_mx_dwp_3',\n",
    "                  city_initial + '_mi_dwp_1',city_initial + '_mi_dwp_2',city_initial +'_mi_dwp_3']\n",
    "\n",
    "    X = clean_df[predictors]\n",
    "    # import ridge model to predict temperature with recent features created\n",
    "    model = pickle.load(open('ridge_temp_model.pkl', 'rb'))\n",
    "    temp_c = model.predict(X)\n",
    "    \n",
    "    # apply function to convert temperature into Fahrenheit\n",
    "    actual_f = c_to_f(clean_df[city_initial + '_temp'])\n",
    "\n",
    "    temp_f = c_to_f(temp_c)\n",
    "    fahrenheit = []\n",
    "    for i in range(0, len(temp_f)):\n",
    "        fahrenheit.append(int(temp_f.item(i)))\n",
    "    # grab values and add to dataframe  \n",
    "    clean_df['Actual_avg_temp(F)'] = ''\n",
    "    clean_df['Predicted_temp(F)']= ''\n",
    "    clean_df['Actual_avg_temp(F)'] = actual_f\n",
    "    clean_df['Predicted_temp(F)'] = fahrenheit\n",
    "    # Create new dataframe with only Average temperature collected and compare with predicted temperature \n",
    "    predictions_df = clean_df[['Actual_avg_temp(F)','Predicted_temp(F)']]\n",
    "    # save prediction dataframe into csv\n",
    "    predictions_df.to_csv(city_name + '_prediction.csv')\n",
    "    predictions_df\n",
    "    "
   ]
  },
  {
   "cell_type": "code",
   "execution_count": null,
   "metadata": {},
   "outputs": [],
   "source": [
    "ams_name = 'amsterdam'\n",
    "ams_initial = 'Ams'\n",
    "ams_to_print = 'Amsterdam'\n",
    "predicting_temp(ams_name, ams_initial, ams_to_print)"
   ]
  },
  {
   "cell_type": "code",
   "execution_count": null,
   "metadata": {},
   "outputs": [],
   "source": [
    "kyo_name = 'kyoto'\n",
    "kyo_initial = 'Kyo'\n",
    "kyo_to_print = 'Kyoto'\n",
    "predicting_temp(kyo_name, kyo_initial, kyo_to_print)"
   ]
  },
  {
   "cell_type": "code",
   "execution_count": null,
   "metadata": {},
   "outputs": [],
   "source": [
    "nic_name = 'nice'\n",
    "nic_initial = 'Nice'\n",
    "nic_to_print = 'Nice'\n",
    "predicting_temp(nic_name, nic_initial, nic_to_print)"
   ]
  },
  {
   "cell_type": "code",
   "execution_count": null,
   "metadata": {},
   "outputs": [],
   "source": [
    "sal_name = 'salvador'\n",
    "sal_initial = 'Sal'\n",
    "sal_to_print = 'Salvador'\n",
    "predicting_temp(sal_name, sal_initial, sal_to_print)"
   ]
  },
  {
   "cell_type": "code",
   "execution_count": null,
   "metadata": {},
   "outputs": [],
   "source": [
    "man_name = 'manly'\n",
    "man_initial = 'Man'\n",
    "man_to_print = 'Manly'\n",
    "predicting_temp(man_name, man_initial, man_to_print)"
   ]
  },
  {
   "cell_type": "code",
   "execution_count": null,
   "metadata": {},
   "outputs": [],
   "source": [
    "kau_name = 'kauai'\n",
    "kau_initial = 'Kau'\n",
    "kau_to_print = 'Kauai'\n",
    "predicting_temp(kau_name, kau_initial, kau_to_print)"
   ]
  },
  {
   "cell_type": "code",
   "execution_count": null,
   "metadata": {},
   "outputs": [],
   "source": [
    "irv_name = 'irvine'\n",
    "irv_initial = 'Irv'\n",
    "irv_to_print = 'Irvine'\n",
    "predicting_temp(irv_name, irv_initial, irv_to_print)"
   ]
  }
 ],
 "metadata": {
  "kernelspec": {
   "display_name": "Python [conda env:PythonData]",
   "language": "python",
   "name": "conda-env-PythonData-py"
  },
  "language_info": {
   "codemirror_mode": {
    "name": "ipython",
    "version": 3
   },
   "file_extension": ".py",
   "mimetype": "text/x-python",
   "name": "python",
   "nbconvert_exporter": "python",
   "pygments_lexer": "ipython3",
   "version": "3.6.7"
  }
 },
 "nbformat": 4,
 "nbformat_minor": 2
}

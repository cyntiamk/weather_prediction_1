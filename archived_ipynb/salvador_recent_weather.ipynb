{
 "cells": [
  {
   "cell_type": "code",
   "execution_count": 7,
   "metadata": {},
   "outputs": [],
   "source": [
    "# Dependencies\n",
    "import csv\n",
    "import matplotlib.pyplot as plt\n",
    "import openweathermapy as ow\n",
    "import pandas as pd\n",
    "import requests\n",
    "import pprint\n",
    "import time\n",
    "from datetime import datetime\n",
    "import os\n",
    "\n",
    "# import api_key from config file\n",
    "from config import api_key"
   ]
  },
  {
   "cell_type": "code",
   "execution_count": 8,
   "metadata": {},
   "outputs": [],
   "source": [
    "def grab_salvador():\n",
    "    data = []\n",
    "    url = \"http://api.openweathermap.org/data/2.5/weather?\"\n",
    "    units = \"metric\"\n",
    "    salvador = url + \"appid=\" + api_key + \"&q=\" + 'Salvador'+\"&units=\"+ units\n",
    "\n",
    "    weather_response = requests.get(salvador)\n",
    "    data.append(weather_response.json())\n",
    "\n",
    "    date_obj = []\n",
    "    temp = []\n",
    "    max_temp = []\n",
    "    min_temp = []\n",
    "    humidity = []\n",
    "    pressure = []\n",
    "    wind_speed = []\n",
    "    clouds = []\n",
    "    description = []\n",
    "\n",
    "    for measure in data:\n",
    "        date_obj.append(measure['dt'])\n",
    "        temp.append(measure['main']['temp'])\n",
    "        max_temp.append(measure['main']['temp_max'])\n",
    "        min_temp.append(measure['main']['temp_min'])\n",
    "        pressure.append(measure['main']['pressure'])\n",
    "        humidity.append(measure['main']['humidity'])\n",
    "        wind_speed.append(measure['wind']['speed'])\n",
    "        clouds.append(measure['clouds']['all'])\n",
    "        description.append(measure['weather'][0]['main'])\n",
    "\n",
    "    def calculate_dp(T, H):\n",
    "        return T - ((100 - H) / 5)\n",
    "\n",
    "    dew_point = []\n",
    "    for T ,H in zip(temp, humidity):\n",
    "        dp = calculate_dp(T,H)\n",
    "        dew_point.append(dp)\n",
    "\n",
    "    max_dew = []\n",
    "    for T ,H in zip(max_temp, humidity):\n",
    "        dp = calculate_dp(T,H)\n",
    "        max_dew.append(dp)\n",
    "\n",
    "    min_dew = []\n",
    "    for T ,H in zip(min_temp, humidity):\n",
    "        dp = calculate_dp(T,H)\n",
    "        min_dew.append(dp)\n",
    "\n",
    "    date = []\n",
    "    for seconds in date_obj:\n",
    "        timestamp = datetime.utcfromtimestamp(seconds)\n",
    "        day = datetime.strftime(timestamp,'%Y-%m-%d %H:%M:%S')\n",
    "        date.append(day) \n",
    "\n",
    "    salvador_weather = {\n",
    "        \"Date\": date,\n",
    "        \"Mean_temp\": temp,\n",
    "        \"Max_temp\": max_temp,\n",
    "        \"Min_temp\": min_temp,\n",
    "        \"Mean_dwp\": dew_point,\n",
    "        \"Max_dwp\": max_dew,\n",
    "        \"Min_dwp\": min_dew,\n",
    "        \"Pressure\": pressure,\n",
    "        \"Humidity\": humidity,\n",
    "        \"Wind\": wind_speed,\n",
    "        \"Clouds\": clouds,\n",
    "        \"Description\": description\n",
    "    }\n",
    "\n",
    "    salvador_recent = pd.DataFrame(salvador_weather)\n",
    "\n",
    "    # if file does not exist write header \n",
    "    if not os.path.isfile('salvador_recent.csv'):\n",
    "       salvador_recent.to_csv('salvador_recent.csv', header='column_names')\n",
    "    else: # else it exists so append without writing the header\n",
    "       salvador_recent.to_csv('salvador_recent.csv', mode='a', header=False)"
   ]
  },
  {
   "cell_type": "code",
   "execution_count": 10,
   "metadata": {},
   "outputs": [
    {
     "ename": "KeyboardInterrupt",
     "evalue": "",
     "output_type": "error",
     "traceback": [
      "\u001b[0;31m---------------------------------------------------------------------------\u001b[0m",
      "\u001b[0;31mKeyboardInterrupt\u001b[0m                         Traceback (most recent call last)",
      "\u001b[0;32m<ipython-input-10-e570176d7fd4>\u001b[0m in \u001b[0;36m<module>\u001b[0;34m()\u001b[0m\n\u001b[1;32m      1\u001b[0m \u001b[0;32mwhile\u001b[0m\u001b[0;34m(\u001b[0m\u001b[0;32mTrue\u001b[0m\u001b[0;34m)\u001b[0m\u001b[0;34m:\u001b[0m\u001b[0;34m\u001b[0m\u001b[0;34m\u001b[0m\u001b[0m\n\u001b[1;32m      2\u001b[0m     \u001b[0mgrab_salvador\u001b[0m\u001b[0;34m(\u001b[0m\u001b[0;34m)\u001b[0m\u001b[0;34m\u001b[0m\u001b[0;34m\u001b[0m\u001b[0m\n\u001b[0;32m----> 3\u001b[0;31m     \u001b[0mtime\u001b[0m\u001b[0;34m.\u001b[0m\u001b[0msleep\u001b[0m\u001b[0;34m(\u001b[0m\u001b[0;36m3600\u001b[0m\u001b[0;34m)\u001b[0m\u001b[0;34m\u001b[0m\u001b[0;34m\u001b[0m\u001b[0m\n\u001b[0m\u001b[1;32m      4\u001b[0m \u001b[0;34m\u001b[0m\u001b[0m\n\u001b[1;32m      5\u001b[0m \u001b[0;34m\u001b[0m\u001b[0m\n",
      "\u001b[0;31mKeyboardInterrupt\u001b[0m: "
     ]
    }
   ],
   "source": [
    "while(True):\n",
    "    grab_salvador()\n",
    "    time.sleep(3600)\n",
    "    \n",
    "    "
   ]
  },
  {
   "cell_type": "code",
   "execution_count": null,
   "metadata": {},
   "outputs": [],
   "source": []
  }
 ],
 "metadata": {
  "kernelspec": {
   "display_name": "Python [conda env:PythonData]",
   "language": "python",
   "name": "conda-env-PythonData-py"
  },
  "language_info": {
   "codemirror_mode": {
    "name": "ipython",
    "version": 3
   },
   "file_extension": ".py",
   "mimetype": "text/x-python",
   "name": "python",
   "nbconvert_exporter": "python",
   "pygments_lexer": "ipython3",
   "version": "3.6.7"
  }
 },
 "nbformat": 4,
 "nbformat_minor": 2
}

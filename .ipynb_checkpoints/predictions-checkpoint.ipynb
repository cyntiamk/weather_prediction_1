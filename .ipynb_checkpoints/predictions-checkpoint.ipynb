{
 "cells": [
  {
   "cell_type": "code",
   "execution_count": 4,
   "metadata": {},
   "outputs": [],
   "source": [
    "import pandas as pd\n",
    "import csv\n",
    "import pickle\n",
    "from sklearn.linear_model import Ridge\n",
    "from sklearn.metrics import r2_score, mean_squared_error"
   ]
  },
  {
   "cell_type": "code",
   "execution_count": 67,
   "metadata": {},
   "outputs": [],
   "source": [
    "def c_to_f(c):\n",
    "    return ((c*9/5) + 32).round(1)\n",
    "    \n"
   ]
  },
  {
   "cell_type": "code",
   "execution_count": 85,
   "metadata": {},
   "outputs": [],
   "source": [
    "def predicting_temp(city_name, city_initial, name_to_print):\n",
    "    city = pd.read_csv('recent_weather/'+ city_name +'_recent_features.csv').set_index('Date')\n",
    "    sorted_city = city.sort_values('Date', ascending=False)\n",
    "    predictors = [city_initial + '_temp_1', city_initial + '_temp_2', city_initial + '_temp_3', \n",
    "                  city_initial + '_max_1',city_initial + '_max_2',city_initial + '_max_3',\n",
    "                  city_initial + '_min_1',city_initial + '_min_2', city_initial + '_min_3', \n",
    "                  city_initial + '_dwp_1',city_initial + '_dwp_2', city_initial + '_dwp_3',\n",
    "                  city_initial + '_mx_dwp_1', city_initial + '_mx_dwp_2',city_initial + '_mx_dwp_3',\n",
    "                  city_initial + '_mi_dwp_1',city_initial + '_mi_dwp_2',city_initial +'_mi_dwp_3']\n",
    "\n",
    "    X = sorted_city[predictors]\n",
    "    model = pickle.load(open('ridge_temp_model.pkl', 'rb'))\n",
    "    temp_c = model.predict(X[:1])\n",
    "    temp_f = c_to_f(temp_c)\n",
    "    print(f\"The predicted temperature in {name_to_print} tomorrow is: {temp_f}F\")"
   ]
  },
  {
   "cell_type": "code",
   "execution_count": 86,
   "metadata": {},
   "outputs": [
    {
     "name": "stdout",
     "output_type": "stream",
     "text": [
      "The predicted temperature in Amsterdam tomorrow is: [31.2]F\n"
     ]
    }
   ],
   "source": [
    "ams_name = 'amsterdam'\n",
    "ams_initial = 'Ams'\n",
    "ams_to_print = 'Amsterdam'\n",
    "predicting_temp(ams_name, ams_initial, ams_to_print)"
   ]
  },
  {
   "cell_type": "code",
   "execution_count": 87,
   "metadata": {},
   "outputs": [
    {
     "name": "stdout",
     "output_type": "stream",
     "text": [
      "The predicted temperature in Kyoto tomorrow is: [42.]F\n"
     ]
    }
   ],
   "source": [
    "kyo_name = 'kyoto'\n",
    "kyo_initial = 'Kyo'\n",
    "kyo_to_print = 'Kyoto'\n",
    "predicting_temp(kyo_name, kyo_initial, kyo_to_print)"
   ]
  },
  {
   "cell_type": "code",
   "execution_count": null,
   "metadata": {},
   "outputs": [],
   "source": [
    "nic_name = 'nice'\n",
    "nic_initial = 'Nice'\n",
    "nic_to_print = 'Nice'\n",
    "predicting_temp(ams_name, ams_initial, ams_to_print)"
   ]
  },
  {
   "cell_type": "code",
   "execution_count": null,
   "metadata": {},
   "outputs": [],
   "source": []
  },
  {
   "cell_type": "code",
   "execution_count": null,
   "metadata": {},
   "outputs": [],
   "source": []
  },
  {
   "cell_type": "code",
   "execution_count": null,
   "metadata": {},
   "outputs": [],
   "source": []
  },
  {
   "cell_type": "code",
   "execution_count": null,
   "metadata": {},
   "outputs": [],
   "source": []
  }
 ],
 "metadata": {
  "kernelspec": {
   "display_name": "Python [conda env:PythonData]",
   "language": "python",
   "name": "conda-env-PythonData-py"
  },
  "language_info": {
   "codemirror_mode": {
    "name": "ipython",
    "version": 3
   },
   "file_extension": ".py",
   "mimetype": "text/x-python",
   "name": "python",
   "nbconvert_exporter": "python",
   "pygments_lexer": "ipython3",
   "version": "3.6.7"
  }
 },
 "nbformat": 4,
 "nbformat_minor": 2
}

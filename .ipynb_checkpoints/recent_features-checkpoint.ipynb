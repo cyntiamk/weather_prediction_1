{
 "cells": [
  {
   "cell_type": "code",
   "execution_count": 66,
   "metadata": {},
   "outputs": [],
   "source": [
    "%matplotlib inline\n",
    "import json\n",
    "from pandas.io.json import json_normalize\n",
    "import pandas as pd\n",
    "import numpy as np\n",
    "from pprint import pprint\n",
    "from datetime import datetime\n",
    "from functools import reduce"
   ]
  },
  {
   "cell_type": "code",
   "execution_count": 67,
   "metadata": {},
   "outputs": [],
   "source": [
    "\n",
    "# function to create new features based on 3 previous days\n",
    "def new_features(df, feature, N): \n",
    "    # total number of rows\n",
    "    rows = df.shape[0]\n",
    "    # a list representing number of days for prior measurements of feature\n",
    "    # notice that the front of the list needs to be padded with N\n",
    "    # None values to maintain the constistent rows length for each N\n",
    "    numb_days_prior_measurements = [None]*N + [df[feature][i-N] for i in range(N, rows)]\n",
    "    # make a new column name of feature_N and add to DataFrame\n",
    "    col_name = \"{}_{}\".format(feature, N)\n",
    "    df[col_name] = numb_days_prior_measurements\n"
   ]
  },
  {
   "cell_type": "code",
   "execution_count": 103,
   "metadata": {},
   "outputs": [],
   "source": [
    "def create_recent_features(csv_path, city_initial, city_name):\n",
    "    city = pd.read_csv(csv_path)\n",
    "    city_date = []\n",
    "\n",
    "    for day in city['Date']:\n",
    "        timestamp = datetime.strptime(day,'%Y-%m-%d %H:%M:%S')\n",
    "        day_only = datetime.strftime(timestamp,'%Y-%m-%d')\n",
    "        city_date.append(day_only)\n",
    "    date = pd.DataFrame(city_date)\n",
    "\n",
    "    city['Date'] = date.values\n",
    "    \n",
    "    del city['Unnamed: 0']\n",
    "    \n",
    "    grouped_city = city.groupby('Date')\n",
    "    city_mean = grouped_city[['Mean_temp','Mean_dwp']].mean()\n",
    "    city_max = grouped_city[['Max_temp','Max_dwp']].max()\n",
    "    city_min= grouped_city[['Min_temp','Min_dwp']].min()\n",
    "\n",
    "    dfs = [city_mean, city_max, city_min]\n",
    "\n",
    "    df_final = reduce(lambda left,right: pd.merge(left,right,on='Date'), dfs)\n",
    "    city_organized = df_final[['Mean_temp','Max_temp','Min_temp','Mean_dwp','Max_dwp','Min_dwp']]\n",
    "    city_renamed = city_organized.rename(columns={'Mean_temp': city_initial+'_temp','Max_temp': city_initial+'_max','Min_temp':city_initial+'_min',\n",
    "                                           'Mean_dwp': city_initial+'_dwp','Max_dwp': city_initial+'_mx_dwp','Min_dwp': city_initial+'_mi_dwp'})\n",
    "    features_city = list(city_renamed.columns.values)\n",
    "    #N is the number of days prior to the prediction, 3 days for this model\n",
    "    for feature in features_city:  \n",
    "        if feature != 'Date':\n",
    "            for N in range(1, 4):\n",
    "                new_features(city_renamed, feature, N)\n",
    "    city_renamed.to_csv(city_name +'_recent_features.csv')\n",
    "    "
   ]
  },
  {
   "cell_type": "code",
   "execution_count": 104,
   "metadata": {},
   "outputs": [],
   "source": [
    "manly_path = 'recent_weather/manly_recent.csv'\n",
    "man_initial = 'Man'\n",
    "man_name = \"manly\"\n",
    "create_recent_features(manly_path, man_initial, man_name)"
   ]
  },
  {
   "cell_type": "code",
   "execution_count": 105,
   "metadata": {},
   "outputs": [],
   "source": [
    "nice_path = 'recent_weather/nice_recent.csv'\n",
    "nic_initial = 'Nice'\n",
    "nic_name = \"nice\"\n",
    "create_recent_features(nice_path, nic_initial, nic_name)"
   ]
  },
  {
   "cell_type": "code",
   "execution_count": 106,
   "metadata": {},
   "outputs": [],
   "source": [
    "kauai_path = 'recent_weather/kauai_recent.csv'\n",
    "kauai_initial = 'Kau'\n",
    "kauai_name = \"kauai\"\n",
    "create_recent_features(kauai_path, kauai_initial, kauai_name)"
   ]
  },
  {
   "cell_type": "code",
   "execution_count": 107,
   "metadata": {},
   "outputs": [],
   "source": [
    "sal_path = 'recent_weather/salvador_recent.csv'\n",
    "sal_initial = 'Sal'\n",
    "sal_name = \"salvador\"\n",
    "create_recent_features(sal_path, sal_initial, sal_name)"
   ]
  },
  {
   "cell_type": "code",
   "execution_count": 108,
   "metadata": {},
   "outputs": [],
   "source": [
    "kyo_path = 'recent_weather/kyoto_recent.csv'\n",
    "kyo_initial = 'Kyo'\n",
    "kyo_name = \"kyoto\"\n",
    "create_recent_features(kyo_path, kyo_initial, kyo_name)"
   ]
  },
  {
   "cell_type": "code",
   "execution_count": null,
   "metadata": {},
   "outputs": [],
   "source": []
  }
 ],
 "metadata": {
  "kernelspec": {
   "display_name": "Python [conda env:PythonData]",
   "language": "python",
   "name": "conda-env-PythonData-py"
  },
  "language_info": {
   "codemirror_mode": {
    "name": "ipython",
    "version": 3
   },
   "file_extension": ".py",
   "mimetype": "text/x-python",
   "name": "python",
   "nbconvert_exporter": "python",
   "pygments_lexer": "ipython3",
   "version": "3.6.7"
  }
 },
 "nbformat": 4,
 "nbformat_minor": 2
}

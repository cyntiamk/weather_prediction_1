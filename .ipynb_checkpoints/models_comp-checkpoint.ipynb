{
 "cells": [
  {
   "cell_type": "code",
   "execution_count": 38,
   "metadata": {},
   "outputs": [],
   "source": [
    "import pandas as pd\n",
    "import matplotlib.pyplot as plt\n",
    "import numpy as np"
   ]
  },
  {
   "cell_type": "code",
   "execution_count": 44,
   "metadata": {},
   "outputs": [],
   "source": [
    "labels = ['Model','Kyoto','Manly','Kaui','Nice','Salvador']\n",
    "results = [('Linear(R2)',0.9523, 0.7610, 0.7050, 0.9377, 0.7091),\n",
    "           ('Linear(MSE)', 2.002,2.3993, 1.2169,1.7252,0.7687),\n",
    "           ('Ridge(R2)', 0.9481, 0.7639, 0.8262, 0.9457,0.7718),\n",
    "           ('Ridge(MSE)', 2.088, 2.4159,0.9341,1.6114,0.6808),\n",
    "           ('SVR(R2)', 0.9518,0.7671,0.7635,0.9417,0.6998),\n",
    "           ('SVR(MSE)', 2.0117,2.3993,1.0895,1.6697,0.7809)]\n",
    "df = pd.DataFrame.from_records(results, columns=labels)"
   ]
  },
  {
   "cell_type": "code",
   "execution_count": 45,
   "metadata": {},
   "outputs": [
    {
     "data": {
      "text/html": [
       "<div>\n",
       "<style scoped>\n",
       "    .dataframe tbody tr th:only-of-type {\n",
       "        vertical-align: middle;\n",
       "    }\n",
       "\n",
       "    .dataframe tbody tr th {\n",
       "        vertical-align: top;\n",
       "    }\n",
       "\n",
       "    .dataframe thead th {\n",
       "        text-align: right;\n",
       "    }\n",
       "</style>\n",
       "<table border=\"1\" class=\"dataframe\">\n",
       "  <thead>\n",
       "    <tr style=\"text-align: right;\">\n",
       "      <th>Model</th>\n",
       "      <th>Linear(R2)</th>\n",
       "      <th>Linear(MSE)</th>\n",
       "      <th>Ridge(R2)</th>\n",
       "      <th>Ridge(MSE)</th>\n",
       "      <th>SVR(R2)</th>\n",
       "      <th>SVR(MSE)</th>\n",
       "    </tr>\n",
       "  </thead>\n",
       "  <tbody>\n",
       "    <tr>\n",
       "      <th>Kyoto</th>\n",
       "      <td>0.9523</td>\n",
       "      <td>2.0020</td>\n",
       "      <td>0.9481</td>\n",
       "      <td>2.0880</td>\n",
       "      <td>0.9518</td>\n",
       "      <td>2.0117</td>\n",
       "    </tr>\n",
       "    <tr>\n",
       "      <th>Manly</th>\n",
       "      <td>0.7610</td>\n",
       "      <td>2.3993</td>\n",
       "      <td>0.7639</td>\n",
       "      <td>2.4159</td>\n",
       "      <td>0.7671</td>\n",
       "      <td>2.3993</td>\n",
       "    </tr>\n",
       "    <tr>\n",
       "      <th>Kaui</th>\n",
       "      <td>0.7050</td>\n",
       "      <td>1.2169</td>\n",
       "      <td>0.8262</td>\n",
       "      <td>0.9341</td>\n",
       "      <td>0.7635</td>\n",
       "      <td>1.0895</td>\n",
       "    </tr>\n",
       "    <tr>\n",
       "      <th>Nice</th>\n",
       "      <td>0.9377</td>\n",
       "      <td>1.7252</td>\n",
       "      <td>0.9457</td>\n",
       "      <td>1.6114</td>\n",
       "      <td>0.9417</td>\n",
       "      <td>1.6697</td>\n",
       "    </tr>\n",
       "    <tr>\n",
       "      <th>Salvador</th>\n",
       "      <td>0.7091</td>\n",
       "      <td>0.7687</td>\n",
       "      <td>0.7718</td>\n",
       "      <td>0.6808</td>\n",
       "      <td>0.6998</td>\n",
       "      <td>0.7809</td>\n",
       "    </tr>\n",
       "  </tbody>\n",
       "</table>\n",
       "</div>"
      ],
      "text/plain": [
       "Model     Linear(R2)  Linear(MSE)  Ridge(R2)  Ridge(MSE)  SVR(R2)  SVR(MSE)\n",
       "Kyoto         0.9523       2.0020     0.9481      2.0880   0.9518    2.0117\n",
       "Manly         0.7610       2.3993     0.7639      2.4159   0.7671    2.3993\n",
       "Kaui          0.7050       1.2169     0.8262      0.9341   0.7635    1.0895\n",
       "Nice          0.9377       1.7252     0.9457      1.6114   0.9417    1.6697\n",
       "Salvador      0.7091       0.7687     0.7718      0.6808   0.6998    0.7809"
      ]
     },
     "execution_count": 45,
     "metadata": {},
     "output_type": "execute_result"
    }
   ],
   "source": [
    "df2 = df.set_index('Model').T\n",
    "df2"
   ]
  },
  {
   "cell_type": "code",
   "execution_count": 46,
   "metadata": {},
   "outputs": [],
   "source": [
    "x = np.arange(1,6,1)\n",
    "y_linear_r2 = df2['Linear(R2)']\n",
    "y_ridge_r2 = df2['Ridge(R2)']\n",
    "y_svr_r2 = df2['SVR(R2)']"
   ]
  },
  {
   "cell_type": "code",
   "execution_count": 47,
   "metadata": {},
   "outputs": [
    {
     "data": {
      "image/png": "[encoded data removed]",
      "text/plain": [
       "<Figure size 432x288 with 1 Axes>"
      ]
     },
     "metadata": {},
     "output_type": "display_data"
    }
   ],
   "source": [
    "plt.plot(x,y_linear_r2)\n",
    "plt.plot(x, y_ridge_r2)\n",
    "plt.plot(x, y_svr_r2)\n",
    "plt.show()"
   ]
  },
  {
   "cell_type": "code",
   "execution_count": null,
   "metadata": {},
   "outputs": [],
   "source": []
  }
 ],
 "metadata": {
  "kernelspec": {
   "display_name": "Python [conda env:PythonData]",
   "language": "python",
   "name": "conda-env-PythonData-py"
  },
  "language_info": {
   "codemirror_mode": {
    "name": "ipython",
    "version": 3
   },
   "file_extension": ".py",
   "mimetype": "text/x-python",
   "name": "python",
   "nbconvert_exporter": "python",
   "pygments_lexer": "ipython3",
   "version": "3.6.7"
  }
 },
 "nbformat": 4,
 "nbformat_minor": 2
}

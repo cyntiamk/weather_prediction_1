{
 "cells": [
  {
   "cell_type": "code",
   "execution_count": 1,
   "metadata": {},
   "outputs": [],
   "source": [
    "import pandas as pd\n",
    "import csv\n",
    "import os\n",
    "\n",
    "import pickle\n",
    "from sklearn.linear_model import Ridge\n",
    "from sklearn.metrics import r2_score, mean_squared_error\n"
   ]
  },
  {
   "cell_type": "code",
   "execution_count": 2,
   "metadata": {},
   "outputs": [],
   "source": [
    "def c_to_f(c):\n",
    "    return ((c*9/5) + 32).round(1)\n",
    "    \n"
   ]
  },
  {
   "cell_type": "code",
   "execution_count": 4,
   "metadata": {},
   "outputs": [],
   "source": [
    "city_name = 'amsterdam'\n",
    "city_initial = 'Ams'\n",
    "city_to_print = 'Amsterdam'\n",
    "city = pd.read_csv('recent_weather/'+ city_name +'_recent_features.csv').set_index('Date')\n",
    "sorted_city = city.sort_values('Date', ascending=False)\n",
    "clean_df = sorted_city.dropna()\n",
    "predictors = [city_initial + '_temp_1', city_initial + '_temp_2', city_initial + '_temp_3', \n",
    "              city_initial + '_max_1',city_initial + '_max_2',city_initial + '_max_3',\n",
    "              city_initial + '_min_1',city_initial + '_min_2', city_initial + '_min_3', \n",
    "              city_initial + '_dwp_1',city_initial + '_dwp_2', city_initial + '_dwp_3',\n",
    "              city_initial + '_mx_dwp_1', city_initial + '_mx_dwp_2',city_initial + '_mx_dwp_3',\n",
    "              city_initial + '_mi_dwp_1',city_initial + '_mi_dwp_2',city_initial +'_mi_dwp_3']\n",
    "\n",
    "X = clean_df[predictors]\n",
    "# import ridge model to predict temperature with recent features created\n",
    "model = pickle.load(open('ridge_temp_model.pkl', 'rb'))"
   ]
  },
  {
   "cell_type": "code",
   "execution_count": 6,
   "metadata": {},
   "outputs": [
    {
     "data": {
      "text/plain": [
       "array([-0.42036373])"
      ]
     },
     "execution_count": 6,
     "metadata": {},
     "output_type": "execute_result"
    }
   ],
   "source": [
    "temp_c = model.predict(X)\n",
    "temp_c"
   ]
  },
  {
   "cell_type": "code",
   "execution_count": 7,
   "metadata": {},
   "outputs": [
    {
     "data": {
      "text/html": [
       "<div>\n",
       "<style scoped>\n",
       "    .dataframe tbody tr th:only-of-type {\n",
       "        vertical-align: middle;\n",
       "    }\n",
       "\n",
       "    .dataframe tbody tr th {\n",
       "        vertical-align: top;\n",
       "    }\n",
       "\n",
       "    .dataframe thead th {\n",
       "        text-align: right;\n",
       "    }\n",
       "</style>\n",
       "<table border=\"1\" class=\"dataframe\">\n",
       "  <thead>\n",
       "    <tr style=\"text-align: right;\">\n",
       "      <th></th>\n",
       "      <th>Ams_temp</th>\n",
       "      <th>Ams_max</th>\n",
       "      <th>Ams_min</th>\n",
       "      <th>Ams_dwp</th>\n",
       "      <th>Ams_mx_dwp</th>\n",
       "      <th>Ams_mi_dwp</th>\n",
       "      <th>Ams_temp_1</th>\n",
       "      <th>Ams_temp_2</th>\n",
       "      <th>Ams_temp_3</th>\n",
       "      <th>Ams_max_1</th>\n",
       "      <th>...</th>\n",
       "      <th>Ams_min_3</th>\n",
       "      <th>Ams_dwp_1</th>\n",
       "      <th>Ams_dwp_2</th>\n",
       "      <th>Ams_dwp_3</th>\n",
       "      <th>Ams_mx_dwp_1</th>\n",
       "      <th>Ams_mx_dwp_2</th>\n",
       "      <th>Ams_mx_dwp_3</th>\n",
       "      <th>Ams_mi_dwp_1</th>\n",
       "      <th>Ams_mi_dwp_2</th>\n",
       "      <th>Ams_mi_dwp_3</th>\n",
       "    </tr>\n",
       "    <tr>\n",
       "      <th>Date</th>\n",
       "      <th></th>\n",
       "      <th></th>\n",
       "      <th></th>\n",
       "      <th></th>\n",
       "      <th></th>\n",
       "      <th></th>\n",
       "      <th></th>\n",
       "      <th></th>\n",
       "      <th></th>\n",
       "      <th></th>\n",
       "      <th></th>\n",
       "      <th></th>\n",
       "      <th></th>\n",
       "      <th></th>\n",
       "      <th></th>\n",
       "      <th></th>\n",
       "      <th></th>\n",
       "      <th></th>\n",
       "      <th></th>\n",
       "      <th></th>\n",
       "      <th></th>\n",
       "    </tr>\n",
       "  </thead>\n",
       "  <tbody>\n",
       "    <tr>\n",
       "      <th>2019-01-21</th>\n",
       "      <td>-0.968889</td>\n",
       "      <td>6</td>\n",
       "      <td>-7</td>\n",
       "      <td>-3.376296</td>\n",
       "      <td>3.4</td>\n",
       "      <td>-8.6</td>\n",
       "      <td>-1.617083</td>\n",
       "      <td>-0.2948</td>\n",
       "      <td>-0.438</td>\n",
       "      <td>3.0</td>\n",
       "      <td>...</td>\n",
       "      <td>-2.0</td>\n",
       "      <td>-6.325417</td>\n",
       "      <td>-3.1588</td>\n",
       "      <td>-1.678</td>\n",
       "      <td>-1.0</td>\n",
       "      <td>-0.4</td>\n",
       "      <td>0.0</td>\n",
       "      <td>-9.2</td>\n",
       "      <td>-6.2</td>\n",
       "      <td>-3.6</td>\n",
       "    </tr>\n",
       "  </tbody>\n",
       "</table>\n",
       "<p>1 rows × 24 columns</p>\n",
       "</div>"
      ],
      "text/plain": [
       "            Ams_temp  Ams_max  Ams_min   Ams_dwp  Ams_mx_dwp  Ams_mi_dwp  \\\n",
       "Date                                                                       \n",
       "2019-01-21 -0.968889        6       -7 -3.376296         3.4        -8.6   \n",
       "\n",
       "            Ams_temp_1  Ams_temp_2  Ams_temp_3  Ams_max_1      ...       \\\n",
       "Date                                                           ...        \n",
       "2019-01-21   -1.617083     -0.2948      -0.438        3.0      ...        \n",
       "\n",
       "            Ams_min_3  Ams_dwp_1  Ams_dwp_2  Ams_dwp_3  Ams_mx_dwp_1  \\\n",
       "Date                                                                   \n",
       "2019-01-21       -2.0  -6.325417    -3.1588     -1.678          -1.0   \n",
       "\n",
       "            Ams_mx_dwp_2  Ams_mx_dwp_3  Ams_mi_dwp_1  Ams_mi_dwp_2  \\\n",
       "Date                                                                 \n",
       "2019-01-21          -0.4           0.0          -9.2          -6.2   \n",
       "\n",
       "            Ams_mi_dwp_3  \n",
       "Date                      \n",
       "2019-01-21          -3.6  \n",
       "\n",
       "[1 rows x 24 columns]"
      ]
     },
     "execution_count": 7,
     "metadata": {},
     "output_type": "execute_result"
    }
   ],
   "source": [
    "clean_df"
   ]
  },
  {
   "cell_type": "code",
   "execution_count": 3,
   "metadata": {},
   "outputs": [
    {
     "name": "stderr",
     "output_type": "stream",
     "text": [
      "/anaconda3/envs/PythonData/lib/python3.6/site-packages/ipykernel/__main__.py:24: SettingWithCopyWarning: \n",
      "A value is trying to be set on a copy of a slice from a DataFrame.\n",
      "Try using .loc[row_indexer,col_indexer] = value instead\n",
      "\n",
      "See the caveats in the documentation: http://pandas.pydata.org/pandas-docs/stable/indexing.html#indexing-view-versus-copy\n",
      "/anaconda3/envs/PythonData/lib/python3.6/site-packages/ipykernel/__main__.py:25: SettingWithCopyWarning: \n",
      "A value is trying to be set on a copy of a slice from a DataFrame.\n",
      "Try using .loc[row_indexer,col_indexer] = value instead\n",
      "\n",
      "See the caveats in the documentation: http://pandas.pydata.org/pandas-docs/stable/indexing.html#indexing-view-versus-copy\n",
      "/anaconda3/envs/PythonData/lib/python3.6/site-packages/ipykernel/__main__.py:26: SettingWithCopyWarning: \n",
      "A value is trying to be set on a copy of a slice from a DataFrame\n",
      "\n",
      "See the caveats in the documentation: http://pandas.pydata.org/pandas-docs/stable/indexing.html#indexing-view-versus-copy\n",
      "/anaconda3/envs/PythonData/lib/python3.6/site-packages/IPython/core/interactiveshell.py:2963: SettingWithCopyWarning: \n",
      "A value is trying to be set on a copy of a slice from a DataFrame\n",
      "\n",
      "See the caveats in the documentation: http://pandas.pydata.org/pandas-docs/stable/indexing.html#indexing-view-versus-copy\n",
      "  exec(code_obj, self.user_global_ns, self.user_ns)\n",
      "/anaconda3/envs/PythonData/lib/python3.6/site-packages/ipykernel/__main__.py:27: SettingWithCopyWarning: \n",
      "A value is trying to be set on a copy of a slice from a DataFrame\n",
      "\n",
      "See the caveats in the documentation: http://pandas.pydata.org/pandas-docs/stable/indexing.html#indexing-view-versus-copy\n"
     ]
    },
    {
     "data": {
      "text/html": [
       "<div>\n",
       "<style scoped>\n",
       "    .dataframe tbody tr th:only-of-type {\n",
       "        vertical-align: middle;\n",
       "    }\n",
       "\n",
       "    .dataframe tbody tr th {\n",
       "        vertical-align: top;\n",
       "    }\n",
       "\n",
       "    .dataframe thead th {\n",
       "        text-align: right;\n",
       "    }\n",
       "</style>\n",
       "<table border=\"1\" class=\"dataframe\">\n",
       "  <thead>\n",
       "    <tr style=\"text-align: right;\">\n",
       "      <th></th>\n",
       "      <th>Ams_temp</th>\n",
       "      <th>Predicted_temp(C)</th>\n",
       "      <th>Predicted_temp(F)</th>\n",
       "    </tr>\n",
       "    <tr>\n",
       "      <th>Date</th>\n",
       "      <th></th>\n",
       "      <th></th>\n",
       "      <th></th>\n",
       "    </tr>\n",
       "  </thead>\n",
       "  <tbody>\n",
       "    <tr>\n",
       "      <th>2019-01-21</th>\n",
       "      <td>-0.968889</td>\n",
       "      <td>-0.420364</td>\n",
       "      <td>31.2</td>\n",
       "    </tr>\n",
       "  </tbody>\n",
       "</table>\n",
       "</div>"
      ],
      "text/plain": [
       "            Ams_temp Predicted_temp(C) Predicted_temp(F)\n",
       "Date                                                    \n",
       "2019-01-21 -0.968889         -0.420364              31.2"
      ]
     },
     "execution_count": 3,
     "metadata": {},
     "output_type": "execute_result"
    }
   ],
   "source": [
    "\n",
    "temp_c = model.predict(X)\n",
    "\n",
    "# apply function to convert temperature into Fahrenheit\n",
    "temp_f = c_to_f(temp_c)\n",
    "# grab values and add to dataframe\n",
    "celsius = temp_c.item(0)\n",
    "fahrenheit = temp_f.item(0)\n",
    "clean_df['Predicted_temp(C)']= ''\n",
    "clean_df['Predicted_temp(F)']= ''\n",
    "clean_df['Predicted_temp(C)'][0] = celsius\n",
    "clean_df['Predicted_temp(F)'][0] = fahrenheit\n",
    "# Create new dataframe with only Average temperature collected and compare with predicted temperature \n",
    "predictions_df = clean_df[[city_initial + '_temp','Predicted_temp(C)','Predicted_temp(F)']]\n",
    "# save prediction dataframe into csv\n",
    "predictions_df.to_csv(city_name + '_prediction.csv')\n",
    "predictions_df"
   ]
  },
  {
   "cell_type": "code",
   "execution_count": null,
   "metadata": {},
   "outputs": [],
   "source": [
    "def predicting_temp(city_name, city_initial, name_to_print):\n",
    "    city = pd.read_csv('recent_weather/'+ city_name +'_recent_features.csv').set_index('Date')\n",
    "    sorted_city = city.sort_values('Date', ascending=False)\n",
    "    clean_df = sorted_city.dropna()\n",
    "    predictors = [city_initial + '_temp_1', city_initial + '_temp_2', city_initial + '_temp_3', \n",
    "                  city_initial + '_max_1',city_initial + '_max_2',city_initial + '_max_3',\n",
    "                  city_initial + '_min_1',city_initial + '_min_2', city_initial + '_min_3', \n",
    "                  city_initial + '_dwp_1',city_initial + '_dwp_2', city_initial + '_dwp_3',\n",
    "                  city_initial + '_mx_dwp_1', city_initial + '_mx_dwp_2',city_initial + '_mx_dwp_3',\n",
    "                  city_initial + '_mi_dwp_1',city_initial + '_mi_dwp_2',city_initial +'_mi_dwp_3']\n",
    "\n",
    "    X = clean_df[predictors]\n",
    "    # import ridge model to predict temperature with recent features created\n",
    "    model = pickle.load(open('ridge_temp_model.pkl', 'rb'))\n",
    "    temp_c = model.predict(X[:1])\n",
    "    \n",
    "    # apply function to convert temperature into Fahrenheit\n",
    "    temp_f = c_to_f(temp_c)\n",
    "    # grab values and add to dataframe\n",
    "    celsius = temp_c.item(0)\n",
    "    fahrenheit = temp_f.item(0)\n",
    "    clean_df['Predicted_temp(C)']= ''\n",
    "    clean_df['Predicted_temp(F)']= ''\n",
    "    clean_df['Predicted_temp(C)'][0] = celsius\n",
    "    clean_df['Predicted_temp(F)'][0] = fahrenheit\n",
    "    # Create new dataframe with only Average temperature collected and compare with predicted temperature \n",
    "    predictions_df = clean_df[[city_initial + '_temp','Predicted_temp(C)','Predicted_temp(F)']]\n",
    "    # save prediction dataframe into csv\n",
    "    predictions_df.to_csv(city_name + '_prediction.csv')\n",
    "    predictions_df\n",
    "    "
   ]
  },
  {
   "cell_type": "code",
   "execution_count": null,
   "metadata": {},
   "outputs": [],
   "source": [
    "ams_name = 'amsterdam'\n",
    "ams_initial = 'Ams'\n",
    "ams_to_print = 'Amsterdam'\n",
    "predicting_temp(ams_name, ams_initial, ams_to_print)"
   ]
  },
  {
   "cell_type": "code",
   "execution_count": null,
   "metadata": {},
   "outputs": [],
   "source": [
    "kyo_name = 'kyoto'\n",
    "kyo_initial = 'Kyo'\n",
    "kyo_to_print = 'Kyoto'\n",
    "predicting_temp(kyo_name, kyo_initial, kyo_to_print)"
   ]
  },
  {
   "cell_type": "code",
   "execution_count": null,
   "metadata": {},
   "outputs": [],
   "source": [
    "nic_name = 'nice'\n",
    "nic_initial = 'Nice'\n",
    "nic_to_print = 'Nice'\n",
    "predicting_temp(nic_name, nic_initial, nic_to_print)"
   ]
  },
  {
   "cell_type": "code",
   "execution_count": null,
   "metadata": {},
   "outputs": [],
   "source": [
    "sal_name = 'salvador'\n",
    "sal_initial = 'Sal'\n",
    "sal_to_print = 'Salvador'\n",
    "predicting_temp(sal_name, sal_initial, sal_to_print)"
   ]
  },
  {
   "cell_type": "code",
   "execution_count": null,
   "metadata": {},
   "outputs": [],
   "source": [
    "man_name = 'manly'\n",
    "man_initial = 'Man'\n",
    "man_to_print = 'Manly'\n",
    "predicting_temp(man_name, man_initial, man_to_print)"
   ]
  },
  {
   "cell_type": "code",
   "execution_count": null,
   "metadata": {},
   "outputs": [],
   "source": [
    "kau_name = 'kauai'\n",
    "kau_initial = 'Kau'\n",
    "kau_to_print = 'Kauai'\n",
    "predicting_temp(kau_name, kau_initial, kau_to_print)"
   ]
  },
  {
   "cell_type": "code",
   "execution_count": null,
   "metadata": {},
   "outputs": [],
   "source": []
  }
 ],
 "metadata": {
  "kernelspec": {
   "display_name": "Python [conda env:PythonData]",
   "language": "python",
   "name": "conda-env-PythonData-py"
  },
  "language_info": {
   "codemirror_mode": {
    "name": "ipython",
    "version": 3
   },
   "file_extension": ".py",
   "mimetype": "text/x-python",
   "name": "python",
   "nbconvert_exporter": "python",
   "pygments_lexer": "ipython3",
   "version": "3.6.7"
  }
 },
 "nbformat": 4,
 "nbformat_minor": 2
}

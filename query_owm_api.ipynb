{
 "cells": [
  {
   "cell_type": "code",
   "execution_count": 1,
   "metadata": {},
   "outputs": [],
   "source": [
    "# Dependencies\n",
    "import openweathermapy as ow\n",
    "import pandas as pd\n",
    "import requests\n",
    "import pprint\n",
    "# import api_key from config file\n",
    "from config import api_key"
   ]
  },
  {
   "cell_type": "code",
   "execution_count": 3,
   "metadata": {},
   "outputs": [
    {
     "data": {
      "text/plain": [
       "{'City': 'Irvine',\n",
       " 'Description': 'Clear',\n",
       " 'Temperature(F)': 59.81,\n",
       " 'Humidity(%)': 22,\n",
       " 'Wind_speed(m/s)': 14.99}"
      ]
     },
     "execution_count": 3,
     "metadata": {},
     "output_type": "execute_result"
    }
   ],
   "source": [
    "selected_city = 'Irvine'\n",
    "\n",
    "data = []\n",
    "url = \"http://api.openweathermap.org/data/2.5/weather?\"\n",
    "units = \"imperial\"\n",
    "query_url = url + \"appid=\" + api_key + \"&q=\" + selected_city +\"&units=\"+ units\n",
    "\n",
    "weather_response = requests.get(query_url)\n",
    "data.append(weather_response.json())\n",
    "for measure in data:\n",
    "    current_dict = {\n",
    "        \"City\": (measure['name']),\n",
    "        \"Description\": (measure['weather'][0]['main']),\n",
    "        \"Temperature(F)\": (measure['main']['temp']),\n",
    "        \"Humidity(%)\": (measure['main']['humidity']),\n",
    "        \"Wind_speed(m/s)\": (measure['wind']['speed'])\n",
    "    }\n",
    "current_dict"
   ]
  },
  {
   "cell_type": "code",
   "execution_count": 4,
   "metadata": {},
   "outputs": [
    {
     "data": {
      "text/plain": [
       "'[{\"City\":\"Irvine\",\"Description\":\"Clear\",\"Temperature(F)\":59.81,\"Humidity(%)\":22,\"Wind_speed(m\\\\/s)\":14.99}]'"
      ]
     },
     "execution_count": 4,
     "metadata": {},
     "output_type": "execute_result"
    }
   ],
   "source": [
    "current_df = pd.DataFrame(current_dict, index=[0])\n",
    "current_df.to_json(orient='records')"
   ]
  },
  {
   "cell_type": "code",
   "execution_count": 5,
   "metadata": {},
   "outputs": [
    {
     "name": "stdout",
     "output_type": "stream",
     "text": [
      "[{'coord': {'lon': -117.83, 'lat': 33.69}, 'weather': [{'id': 800, 'main': 'Clear', 'description': 'clear sky', 'icon': '01n'}], 'base': 'stations', 'main': {'temp': 59.81, 'pressure': 1015, 'humidity': 22, 'temp_min': 56.12, 'temp_max': 64.04}, 'visibility': 16093, 'wind': {'speed': 14.99, 'deg': 290, 'gust': 9.8}, 'clouds': {'all': 1}, 'dt': 1548117300, 'sys': {'type': 1, 'id': 3578, 'message': 0.0086, 'country': 'US', 'sunrise': 1548168813, 'sunset': 1548205955}, 'id': 5359777, 'name': 'Irvine', 'cod': 200}]\n"
     ]
    }
   ],
   "source": [
    "print(data)"
   ]
  },
  {
   "cell_type": "code",
   "execution_count": null,
   "metadata": {},
   "outputs": [],
   "source": []
  }
 ],
 "metadata": {
  "kernelspec": {
   "display_name": "Python [conda env:PythonData]",
   "language": "python",
   "name": "conda-env-PythonData-py"
  },
  "language_info": {
   "codemirror_mode": {
    "name": "ipython",
    "version": 3
   },
   "file_extension": ".py",
   "mimetype": "text/x-python",
   "name": "python",
   "nbconvert_exporter": "python",
   "pygments_lexer": "ipython3",
   "version": "3.6.7"
  }
 },
 "nbformat": 4,
 "nbformat_minor": 2
}
